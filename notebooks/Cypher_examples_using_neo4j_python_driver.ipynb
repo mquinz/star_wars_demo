{
 "cells": [
  {
   "cell_type": "markdown",
   "metadata": {},
   "source": [
    "# Star-Wars Aura Demo Notebook \n",
    "## Cypher Examples Using Neo4j Python Driver\n",
    "\n",
    "\n",
    "## Overview\n",
    "To demonstrate how to connnect to a Neo4j instance running in Aura.  This uses the Neo4j Driver version\n",
    "### Created: September 11, 2022\n",
    "### Author:  Mark Quinsland\n",
    "\n",
    "### Additional resources:\n",
    "Some of this material is based on the excellent, highly-recommended \"Bite-Sized Neo4j for Data Scientiests\" series of notebooks and youtube clips by CJ Sullivan. \n",
    "\n",
    "#### Note on Python Drivers & Python Client:\n",
    "For some of the notebooks in CJ's series, the official Neo4j Python driver named 'neo4j' is used.  In others, the community-supported 'py2neo' driver is used.  This notebook uses the 'neo4j' driver.  Since the publishin of the Bite-Sized series, Neo4j released a new Python client named 'graphdatascience' that supports additional Graph Data Science features.  This client should only be used to access Neo4j servers where the GDS library has been installed.    Examples using the new graphdatascience library are available from the github repo containing this file.  \n",
    "\n",
    "https://github.com/cj2001/bite_sized_data_science\n",
    "\n",
    "https://youtu.be/Niys6g6NFfw?list=PL9Hl4pk2FsvVShoT5EysHcrs-hyCsXaWC\n",
    "\n",
    "https://medium.com/@cj2001\n",
    "\n"
   ]
  },
  {
   "cell_type": "code",
   "execution_count": 17,
   "metadata": {},
   "outputs": [],
   "source": [
    "from neo4j import GraphDatabase\n",
    "import logging\n",
    "from neo4j.exceptions import ServiceUnavailable\n",
    "import pandas as pd\n",
    "import time\n"
   ]
  },
  {
   "cell_type": "code",
   "execution_count": 18,
   "metadata": {},
   "outputs": [],
   "source": [
    "#aura connection details\n",
    "\n",
    "uri=\"bolt://localhost\"\n",
    "user = 'neo4j'\n",
    "password = 'jedi'\n",
    "\n",
    "uri=\"neo4j+s://3c6eb2f6.databases.neo4j.io\"\n"
   ]
  },
  {
   "cell_type": "code",
   "execution_count": 19,
   "metadata": {},
   "outputs": [],
   "source": [
    "conn = Neo4jConnection(uri=uri, user=user, pwd=password)"
   ]
  },
  {
   "cell_type": "code",
   "execution_count": 20,
   "metadata": {},
   "outputs": [
    {
     "name": "stdout",
     "output_type": "stream",
     "text": [
      "326\n"
     ]
    }
   ],
   "source": [
    "## simple example to test connection & return results\n",
    "result = conn.query('MATCH (n) RETURN COUNT(n) AS ct')\n",
    "# print(result)\n",
    "# Consume the result object\n",
    "print(result[0]['ct'])"
   ]
  },
  {
   "cell_type": "markdown",
   "metadata": {},
   "source": [
    "### Cypher Query Examples"
   ]
  },
  {
   "cell_type": "markdown",
   "metadata": {},
   "source": [
    "#### Execute Cypher read query and process results"
   ]
  },
  {
   "cell_type": "code",
   "execution_count": 21,
   "metadata": {},
   "outputs": [],
   "source": [
    "# load any parameters \n",
    "\n",
    "params = {'name': 'Han Solo' \n",
    "         }\n",
    "\n",
    "query = \"\"\"MATCH (p:Character {name: $name})-[i:INTERACTED_WITH]-(p2:Character)\n",
    "           RETURN  p2.name AS otherName, i.count as interactionCount\n",
    "           ORDER BY interactionCount DESC LIMIT 10\n",
    "           \n",
    "\"\"\"\n",
    "\n",
    "\n",
    "result = conn.query(query, parameters=params)\n",
    "\n",
    "for row in result:\n",
    "    print (row['otherName'], row['interactionCount'])"
   ]
  },
  {
   "cell_type": "markdown",
   "metadata": {},
   "source": [
    "#### Execute Cypher read query and export to DataFrame"
   ]
  },
  {
   "cell_type": "code",
   "execution_count": 25,
   "metadata": {},
   "outputs": [
    {
     "data": {
      "text/html": [
       "<div>\n",
       "<style scoped>\n",
       "    .dataframe tbody tr th:only-of-type {\n",
       "        vertical-align: middle;\n",
       "    }\n",
       "\n",
       "    .dataframe tbody tr th {\n",
       "        vertical-align: top;\n",
       "    }\n",
       "\n",
       "    .dataframe thead th {\n",
       "        text-align: right;\n",
       "    }\n",
       "</style>\n",
       "<table border=\"1\" class=\"dataframe\">\n",
       "  <thead>\n",
       "    <tr style=\"text-align: right;\">\n",
       "      <th></th>\n",
       "    </tr>\n",
       "  </thead>\n",
       "  <tbody>\n",
       "  </tbody>\n",
       "</table>\n",
       "</div>"
      ],
      "text/plain": [
       "Empty DataFrame\n",
       "Columns: []\n",
       "Index: []"
      ]
     },
     "execution_count": 25,
     "metadata": {},
     "output_type": "execute_result"
    }
   ],
   "source": [
    "# load any parameters \n",
    "\n",
    "params = {'name': 'Han Solo'  }\n",
    "\n",
    "query = \"\"\"MATCH (p:Character {name: $name})-[i:INTERACTED_WITH]-(p2:Character)\n",
    "           RETURN  p2.name AS otherName, i.count as interactionCount\n",
    "           ORDER BY interactionCount DESC LIMIT 10         \n",
    "\"\"\"\n",
    "\n",
    "# run query to get results\n",
    "result = conn.query(query, parameters=params)\n",
    " \n",
    "# create a dataframe from Cypher Resultset    \n",
    "dtf_data = pd.DataFrame([dict(_) for _ in result])\n",
    "dtf_data.head(3)\n"
   ]
  },
  {
   "cell_type": "markdown",
   "metadata": {},
   "source": [
    "## Write Data to Neo4j using DataFrame"
   ]
  },
  {
   "cell_type": "code",
   "execution_count": 24,
   "metadata": {},
   "outputs": [
    {
     "data": {
      "text/plain": [
       "{'total': 5, 'batches': 1, 'time': 0.1604321002960205}"
      ]
     },
     "execution_count": 24,
     "metadata": {},
     "output_type": "execute_result"
    }
   ],
   "source": [
    "def add_users_using_df(rows):\n",
    "    \n",
    "    query = \"\"\"UNWIND $rows AS row\n",
    "               MERGE (u:User {id: row.id})\n",
    "               SET u.name = row.name \n",
    "               RETURN COUNT(*) AS total\n",
    "            \"\"\"\n",
    "    \n",
    "    return insert_data(query, rows)\n",
    "\n",
    "\n",
    "user_data = {\n",
    "    'id': [0, 1, 2, 3, 4],\n",
    "    'name': ['Alice', 'Brian', 'Carla', 'David', 'Ed']\n",
    "}\n",
    "\n",
    "user_df = pd.DataFrame(user_data)\n",
    "user_df.head()\n",
    "\n",
    "add_users_using_df(user_df)"
   ]
  },
  {
   "cell_type": "markdown",
   "metadata": {},
   "source": [
    "### Utility method for inserting records into Neo using batches"
   ]
  },
  {
   "cell_type": "code",
   "execution_count": 8,
   "metadata": {},
   "outputs": [],
   "source": [
    "def insert_data(query, rows, batch_size = 10000):\n",
    "    # Function to handle the updating the Neo4j database in batch mode.\n",
    "    \n",
    "    total = 0\n",
    "    batch = 0\n",
    "    start = time.time()\n",
    "    result = None\n",
    "    \n",
    "    while batch * batch_size < len(rows):\n",
    "\n",
    "        res = conn.query(query, \n",
    "                         parameters = {'rows': rows[batch*batch_size:(batch+1)*batch_size].to_dict('records')})\n",
    "        total += res[0]['total']\n",
    "        batch += 1\n",
    "        result = {\"total\":total, \n",
    "                  \"batches\":batch, \n",
    "                  \"time\":time.time()-start}\n",
    "        \n",
    "    return result"
   ]
  },
  {
   "cell_type": "markdown",
   "metadata": {},
   "source": [
    "### Utility class for Neo4j connection"
   ]
  },
  {
   "cell_type": "code",
   "execution_count": 6,
   "metadata": {},
   "outputs": [],
   "source": [
    "class Neo4jConnection:\n",
    "    \n",
    "    def __init__(self, uri, user, pwd):\n",
    "        \n",
    "        self.__uri = uri\n",
    "        self.__user = user\n",
    "        self.__pwd = pwd\n",
    "        self.__driver = None\n",
    "        \n",
    "        try:\n",
    "            self.__driver = GraphDatabase.driver(self.__uri, auth=(self.__user, self.__pwd))\n",
    "        except Exception as e:\n",
    "            print(\"Failed to create the driver:\", e)\n",
    "        \n",
    "    def close(self):\n",
    "        \n",
    "        if self.__driver is not None:\n",
    "            self.__driver.close()\n",
    "        \n",
    "    def query(self, query, parameters=None, db=None):\n",
    "        \n",
    "        assert self.__driver is not None, \"Driver not initialized!\"\n",
    "        session = None\n",
    "        response = None\n",
    "        \n",
    "        try: \n",
    "            session = self.__driver.session(database=db) if db is not None else self.__driver.session() \n",
    "            response = list(session.run(query, parameters))\n",
    "        except Exception as e:\n",
    "            print(\"Query failed:\", e)\n",
    "        finally: \n",
    "            if session is not None:\n",
    "                session.close()\n",
    "        return response"
   ]
  },
  {
   "cell_type": "code",
   "execution_count": null,
   "metadata": {},
   "outputs": [],
   "source": []
  }
 ],
 "metadata": {
  "kernelspec": {
   "display_name": "Python 3",
   "language": "python",
   "name": "python3"
  },
  "language_info": {
   "codemirror_mode": {
    "name": "ipython",
    "version": 3
   },
   "file_extension": ".py",
   "mimetype": "text/x-python",
   "name": "python",
   "nbconvert_exporter": "python",
   "pygments_lexer": "ipython3",
   "version": "3.7.4"
  }
 },
 "nbformat": 4,
 "nbformat_minor": 2
}
