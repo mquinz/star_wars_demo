{
 "cells": [
  {
   "cell_type": "markdown",
   "metadata": {},
   "source": [
    "# Star-Wars Aura Demo Notebook  v 1.2\n",
    "## Cypher Examples Using Neo4j Python Driver\n",
    "\n",
    "\n",
    "## Overview\n",
    "To demonstrate how to read and write data to a Neo4j instance running in AuraDB using the Neo4j Python Driver.\n",
    "\n",
    "### Created: September 11, 2022\n",
    "#### Latest version 1.2 - February 3, 2023\n",
    "\n",
    "### Author:  Mark Quinsland \n",
    "mark.quinsland@neo4j.com\n",
    "\n",
    "### Additional resources:\n",
    "Some of this material is based on the excellent, highly-recommended \"Bite-Sized Neo4j for Data Scientiests\" series of notebooks and youtube clips by former Neo4j data scientist CJ Sullivan. For some of the notebooks in CJ's series, the official Neo4j Python driver named 'neo4j' is used.  In others, the community-supported 'py2neo' driver is used.  \n",
    "Sample notebooks and tutorials may be found here:  \n",
    "\n",
    "- https://github.com/cj2001/bite_sized_data_science\n",
    "- https://youtu.be/Niys6g6NFfw?list=PL9Hl4pk2FsvVShoT5EysHcrs-hyCsXaWC\n",
    "- https://medium.com/@cj2001\n",
    "\n",
    "\n",
    "## A Note about Neo4j's family of Python Drivers.\n",
    "\n",
    "There are 3 commonly used Python drivers for Neo4j.  This notebook uses the official Neo4j Python driver. \n",
    "\n",
    "### neo4j  driver (Official Neo4j Python Driver)\n",
    "This is the official, supported Neo4j Python driver and is continually being updated to utilize Neo4j's latest features.  The driver is designed to work with a wide variety of Neo4jDB instances including on-prem, AWS, GCP, Azure, and AuraDB.  It greatly simplifies connectivity to Neo4j clusters.\n",
    "- https://neo4j.com/docs/api/python-driver/current/\n",
    "- https://neo4j.com/docs/python-manual/current/\n",
    "\n",
    "\n",
    "### graphdatascience driver ( GDS Clients only)\n",
    "Neo4j recently released a new Python client named 'graphdatascience' that supports additional Graph Data Science features.  This client should only be used to access Neo4j servers where the GDS library has been installed.    Documentation and examples using the new graphdatascience library are available from the following links.\n",
    "- https://pypi.org/project/graphdatascience/\n",
    "- https://neo4j.com/developer-blog/get-started-with-neo4j-gds-python-client/\n",
    "\n",
    "### py2neo (community supported driver)\n",
    "\n",
    "Py2neo is a simple-to-use library and was a very popular alternative to the official Neo4j driver. However, it does not provide support for enterprise Neo4j features or for recent Neo4j versions.  \n",
    "https://py2neo.org/v4/\n",
    "\n",
    "\n"
   ]
  },
  {
   "cell_type": "markdown",
   "metadata": {},
   "source": [
    "### Install Neo4j Python Driver - pip install neo4j"
   ]
  },
  {
   "cell_type": "code",
   "execution_count": 12,
   "metadata": {},
   "outputs": [],
   "source": [
    "# use pip install neo4j\n",
    "\n",
    "from neo4j import GraphDatabase\n",
    "from neo4j.exceptions import ServiceUnavailable\n",
    "import pandas as pd\n",
    "\n"
   ]
  },
  {
   "cell_type": "markdown",
   "metadata": {},
   "source": [
    "## Connection Values \n",
    "- downloaded at time of instance creation!\n",
    "#### Note: Take appropriate measures to keep authorization information secret.  Values are hardcoded here for simplicity."
   ]
  },
  {
   "cell_type": "code",
   "execution_count": 30,
   "metadata": {},
   "outputs": [],
   "source": [
    "#aura connection details - downloaded at time of instance creation!\n",
    "\n",
    "NEO4J_URI=\"neo4j+s://d44b75fb.databases.neo4j.io\"\n",
    "NEO4J_USERNAME=\"neo4j\"\n",
    "NEO4J_PASSWORD=\"UmFkV80lKjANvfimU3RBVpdeXSI9asY1Q31gOhWUZV4\"\n",
    "AURA_INSTANCENAME=\"Instance01\"\n"
   ]
  },
  {
   "cell_type": "code",
   "execution_count": 31,
   "metadata": {},
   "outputs": [],
   "source": [
    "# use helper class to handle Neo4j connection tasks\n",
    "conn = Neo4jConnection(uri=NEO4J_URI, user=NEO4J_USERNAME, pwd=NEO4J_PASSWORD)"
   ]
  },
  {
   "cell_type": "code",
   "execution_count": 32,
   "metadata": {},
   "outputs": [
    {
     "name": "stdout",
     "output_type": "stream",
     "text": [
      "249\n"
     ]
    }
   ],
   "source": [
    "## simple example to test connection & return results\n",
    "result = conn.query('MATCH (n) RETURN COUNT(n) AS ct')\n",
    "# Consume the result object\n",
    "print(result[0]['ct'])"
   ]
  },
  {
   "cell_type": "markdown",
   "metadata": {},
   "source": [
    "# Cypher Query Examples"
   ]
  },
  {
   "cell_type": "markdown",
   "metadata": {},
   "source": [
    "## Execute Cypher read query and process results\n",
    "\n",
    "### Which characters does Han Solo interact with the most?"
   ]
  },
  {
   "cell_type": "code",
   "execution_count": 33,
   "metadata": {},
   "outputs": [
    {
     "name": "stdout",
     "output_type": "stream",
     "text": [
      "Chewbacca 77\n",
      "Leia Organa 69\n",
      "C-3PO 54\n",
      "Luke Skywalker 43\n",
      "Finn 23\n",
      "R2-D2 18\n",
      "Rey 17\n",
      "LANDO 12\n",
      "Obi-Wan Kenobi 10\n",
      "BB8 9\n"
     ]
    }
   ],
   "source": [
    "# load any parameters using a dictionary  \n",
    "\n",
    "params = {'name': 'Han Solo' }\n",
    "\n",
    "# cypher - who does Han Solo interact with the most?\n",
    "query = \"\"\"MATCH (p:Character {name: $name})-[i:INTERACTS_WITH]-(p2:Character)\n",
    "           RETURN  p2.name AS otherName, i.count as interactionCount\n",
    "           ORDER BY interactionCount DESC LIMIT 10\n",
    "    \n",
    "\"\"\"\n",
    "\n",
    "result = conn.query(query, parameters=params)\n",
    "\n",
    "for row in result:\n",
    "    print (row['otherName'], row['interactionCount'])"
   ]
  },
  {
   "cell_type": "markdown",
   "metadata": {},
   "source": [
    "#### Execute Cypher read query and export to DataFrame"
   ]
  },
  {
   "cell_type": "code",
   "execution_count": 34,
   "metadata": {},
   "outputs": [
    {
     "data": {
      "text/html": [
       "<div>\n",
       "<style scoped>\n",
       "    .dataframe tbody tr th:only-of-type {\n",
       "        vertical-align: middle;\n",
       "    }\n",
       "\n",
       "    .dataframe tbody tr th {\n",
       "        vertical-align: top;\n",
       "    }\n",
       "\n",
       "    .dataframe thead th {\n",
       "        text-align: right;\n",
       "    }\n",
       "</style>\n",
       "<table border=\"1\" class=\"dataframe\">\n",
       "  <thead>\n",
       "    <tr style=\"text-align: right;\">\n",
       "      <th></th>\n",
       "      <th>otherName</th>\n",
       "      <th>interactionCount</th>\n",
       "    </tr>\n",
       "  </thead>\n",
       "  <tbody>\n",
       "    <tr>\n",
       "      <th>0</th>\n",
       "      <td>Chewbacca</td>\n",
       "      <td>77</td>\n",
       "    </tr>\n",
       "    <tr>\n",
       "      <th>1</th>\n",
       "      <td>Leia Organa</td>\n",
       "      <td>69</td>\n",
       "    </tr>\n",
       "    <tr>\n",
       "      <th>2</th>\n",
       "      <td>C-3PO</td>\n",
       "      <td>54</td>\n",
       "    </tr>\n",
       "  </tbody>\n",
       "</table>\n",
       "</div>"
      ],
      "text/plain": [
       "     otherName  interactionCount\n",
       "0    Chewbacca                77\n",
       "1  Leia Organa                69\n",
       "2        C-3PO                54"
      ]
     },
     "execution_count": 34,
     "metadata": {},
     "output_type": "execute_result"
    }
   ],
   "source": [
    "# load any parameters \n",
    "\n",
    "params = {'name': 'Han Solo'  }\n",
    "\n",
    "query = \"\"\"MATCH (p:Character {name: $name})-[i:INTERACTS_WITH]-(p2:Character)\n",
    "           RETURN  p2.name AS otherName, i.count as interactionCount\n",
    "           ORDER BY interactionCount DESC LIMIT 10         \n",
    "\"\"\"\n",
    "\n",
    "# run query to get results\n",
    "result = conn.query(query, parameters=params)\n",
    "\n",
    "# create a dataframe from Cypher Resultset  \n",
    "dtf_data = pd.DataFrame([dict(_) for _ in result])\n",
    "dtf_data.head(3)\n"
   ]
  },
  {
   "cell_type": "markdown",
   "metadata": {},
   "source": [
    "## Write Data to Neo4j Using Dictionaries\n",
    "\n",
    "This example uses dictionaries to contain the information about Characters  and their home planets.   It will create (if necessary) a Character node for each dictionary in the array.  It will also create relationships between the Character nodes and the Planet nodes.\n"
   ]
  },
  {
   "cell_type": "code",
   "execution_count": 39,
   "metadata": {},
   "outputs": [
    {
     "name": "stdout",
     "output_type": "stream",
     "text": [
      "[<Record total=3>]\n"
     ]
    }
   ],
   "source": [
    "params = { }\n",
    "\n",
    "# create a batch of dictionaries - each item will be processed individually within the batch\n",
    "bunch_of_rows = [\n",
    " {'name':'Mark', 'gender': 'male', 'planet':'Endor','jedi':'true'},\n",
    " {'name': 'Abby', 'gender': 'female', 'planet':'Endor', 'jedi':'false'},\n",
    " {'name': 'Grokster', 'gender': 'male', 'planet':'Alderaan', 'jedi':'false'}\n",
    "\n",
    "]\n",
    "params ['rows'] = bunch_of_rows\n",
    "\n",
    "query = \"\"\"\n",
    "\n",
    "// use UNWIND to process each item in the array\n",
    "UNWIND $rows AS row\n",
    "     MERGE (u:Character {name: row.name})\n",
    "     SET u.gender = row.gender,\n",
    "         u.jedi = toBoolean(row.jedi)\n",
    "         \n",
    "    // now create a relationship from the Character to their home planet\n",
    "    \n",
    "     WITH u, row.planet as homePlanet\n",
    "         // find the planet and create a relationship to it\n",
    "        MATCH (p:Planet)\n",
    "            WHERE p.name = homePlanet\n",
    "        MERGE (u)-[:FROM]->(p)\n",
    "return count(*) as total\n",
    "\"\"\"\n",
    "\n",
    "# run query to get results\n",
    "result = conn.query(query, parameters=params)\n",
    "print (result)\n"
   ]
  },
  {
   "cell_type": "markdown",
   "metadata": {},
   "source": [
    "### Utility class for Neo4j connection"
   ]
  },
  {
   "cell_type": "code",
   "execution_count": 6,
   "metadata": {},
   "outputs": [],
   "source": [
    "class Neo4jConnection:\n",
    "    \n",
    "    def __init__(self, uri, user, pwd):\n",
    "        \n",
    "        self.__uri = uri\n",
    "        self.__user = user\n",
    "        self.__pwd = pwd\n",
    "        self.__driver = None\n",
    "        \n",
    "        try:\n",
    "            self.__driver = GraphDatabase.driver(self.__uri, auth=(self.__user, self.__pwd))\n",
    "        except Exception as e:\n",
    "            print(\"Failed to create the driver:\", e)\n",
    "        \n",
    "    def close(self):\n",
    "        \n",
    "        if self.__driver is not None:\n",
    "            self.__driver.close()\n",
    "        \n",
    "    def query(self, query, parameters=None, db=None):\n",
    "        \n",
    "        assert self.__driver is not None, \"Driver not initialized!\"\n",
    "        session = None\n",
    "        response = None\n",
    "        \n",
    "        try: \n",
    "            session = self.__driver.session(database=db) if db is not None else self.__driver.session() \n",
    "            response = list(session.run(query, parameters))\n",
    "        except Exception as e:\n",
    "            print(\"Query failed:\", e)\n",
    "        finally: \n",
    "            if session is not None:\n",
    "                session.close()\n",
    "        return response"
   ]
  },
  {
   "cell_type": "code",
   "execution_count": null,
   "metadata": {},
   "outputs": [],
   "source": []
  }
 ],
 "metadata": {
  "kernelspec": {
   "display_name": "Python 3",
   "language": "python",
   "name": "python3"
  },
  "language_info": {
   "codemirror_mode": {
    "name": "ipython",
    "version": 3
   },
   "file_extension": ".py",
   "mimetype": "text/x-python",
   "name": "python",
   "nbconvert_exporter": "python",
   "pygments_lexer": "ipython3",
   "version": "3.7.4"
  }
 },
 "nbformat": 4,
 "nbformat_minor": 2
}
