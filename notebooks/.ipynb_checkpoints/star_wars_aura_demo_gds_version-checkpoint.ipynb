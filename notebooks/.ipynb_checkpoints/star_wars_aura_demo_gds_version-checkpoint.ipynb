{
 "cells": [
  {
   "cell_type": "markdown",
   "metadata": {},
   "source": [
    "# Star-Wars Aura Demo Notebook \n",
    "## GDS Client version\n",
    "\n",
    "## Overview\n",
    "To demonstrate how to connnect to a Neo4j instance running in Aura.  This version uses the graphdatascience client.\n",
    "\n",
    "### Created: September 11, 2022\n",
    "### Author:  Mark Quinsland\n",
    "\n",
    "### Additional resources:\n",
    "Some of this material is based on the excellent, highly-recommended \"Bite-Sized Neo4j for Data Scientiests\" series of notebooks and youtube clips by CJ Sullivan. \n",
    "\n",
    "#### Note on Python Drivers:\n",
    "                    For some of the notebooks in CJ's series, the official Neo4j Python driver named 'neo4j' is used.  In others, the community-supported 'py2neo' driver is used.  This notebook uses the 'neo4j' driver.  Since the publishing of the Bite-Sized series, Neo4j released a new Python client named 'graphdatascience' that supports additional Graph Data Science features.   Examples using the new graphdatascience library are available from the github repo containing this file.  \n",
    "\n",
    "https://github.com/cj2001/bite_sized_data_science\n",
    "\n",
    "https://youtu.be/Niys6g6NFfw?list=PL9Hl4pk2FsvVShoT5EysHcrs-hyCsXaWC\n",
    "\n",
    "https://medium.com/@cj2001\n",
    "\n"
   ]
  },
  {
   "cell_type": "code",
   "execution_count": 10,
   "metadata": {},
   "outputs": [],
   "source": [
    "from neo4j import GraphDatabase\n",
    "import logging\n",
    "from neo4j.exceptions import ServiceUnavailable\n"
   ]
  },
  {
   "cell_type": "code",
   "execution_count": 2,
   "metadata": {},
   "outputs": [],
   "source": [
    "#aura connection details\n",
    "\n",
    "uri=\"bolt://localhost\"\n",
    "user = 'neo4j'\n",
    "password = 'nimda'\n",
    "\n",
    "uri=\"neo4j+s://ed23282c.databases.neo4j.io\"\n",
    " \n",
    "# driver = GraphDatabase.driver(uri, auth=(user, password))\n"
   ]
  },
  {
   "cell_type": "code",
   "execution_count": 4,
   "metadata": {},
   "outputs": [],
   "source": [
    "conn = Neo4jConnection(uri='neo4j+s://ed23282c.databases.neo4j.io', user='neo4j', pwd='nimda')"
   ]
  },
  {
   "cell_type": "code",
   "execution_count": 7,
   "metadata": {},
   "outputs": [
    {
     "name": "stdout",
     "output_type": "stream",
     "text": [
      "325\n"
     ]
    }
   ],
   "source": [
    "result = conn.query('MATCH (n) RETURN COUNT(n) AS ct')\n",
    "# print(result)\n",
    "# Consume the result object\n",
    "print(result[0]['ct'])"
   ]
  },
  {
   "cell_type": "markdown",
   "metadata": {},
   "source": [
    "### Utility class for Neo4j connection"
   ]
  },
  {
   "cell_type": "code",
   "execution_count": 3,
   "metadata": {},
   "outputs": [],
   "source": [
    "class Neo4jConnection:\n",
    "    \n",
    "    def __init__(self, uri, user, pwd):\n",
    "        \n",
    "        self.__uri = uri\n",
    "        self.__user = user\n",
    "        self.__pwd = pwd\n",
    "        self.__driver = None\n",
    "        \n",
    "        try:\n",
    "            self.__driver = GraphDatabase.driver(self.__uri, auth=(self.__user, self.__pwd))\n",
    "        except Exception as e:\n",
    "            print(\"Failed to create the driver:\", e)\n",
    "        \n",
    "    def close(self):\n",
    "        \n",
    "        if self.__driver is not None:\n",
    "            self.__driver.close()\n",
    "        \n",
    "    def query(self, query, parameters=None, db=None):\n",
    "        \n",
    "        assert self.__driver is not None, \"Driver not initialized!\"\n",
    "        session = None\n",
    "        response = None\n",
    "        \n",
    "        try: \n",
    "            session = self.__driver.session(database=db) if db is not None else self.__driver.session() \n",
    "            response = list(session.run(query, parameters))\n",
    "        except Exception as e:\n",
    "            print(\"Query failed:\", e)\n",
    "        finally: \n",
    "            if session is not None:\n",
    "                session.close()\n",
    "        return response"
   ]
  },
  {
   "cell_type": "code",
   "execution_count": null,
   "metadata": {},
   "outputs": [],
   "source": []
  }
 ],
 "metadata": {
  "kernelspec": {
   "display_name": "Python 3",
   "language": "python",
   "name": "python3"
  },
  "language_info": {
   "codemirror_mode": {
    "name": "ipython",
    "version": 3
   },
   "file_extension": ".py",
   "mimetype": "text/x-python",
   "name": "python",
   "nbconvert_exporter": "python",
   "pygments_lexer": "ipython3",
   "version": "3.7.4"
  }
 },
 "nbformat": 4,
 "nbformat_minor": 2
}
